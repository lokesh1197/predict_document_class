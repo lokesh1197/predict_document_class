{
 "cells": [
  {
   "cell_type": "markdown",
   "metadata": {
    "colab_type": "text",
    "id": "view-in-github"
   },
   "source": [
    "<a href=\"https://colab.research.google.com/github/lokesh1197/predict_document_class/blob/main/main.ipynb\" target=\"_parent\"><img src=\"https://colab.research.google.com/assets/colab-badge.svg\" alt=\"Open In Colab\"/></a>"
   ]
  },
  {
   "cell_type": "code",
   "execution_count": 19,
   "metadata": {
    "colab": {
     "base_uri": "https://localhost:8080/"
    },
    "id": "2EP-txWKnUbn",
    "outputId": "2160a0cd-3498-4c3e-d550-377d3fd4186d"
   },
   "outputs": [
    {
     "name": "stdout",
     "output_type": "stream",
     "text": [
      "skipping\n"
     ]
    }
   ],
   "source": [
    "%%script echo skipping\n",
    "\n",
    "data_dir = \"datathonindoml-2022\"\n",
    "\n",
    "# from google.colab import drive\n",
    "# drive.mount('/content/drive')\n",
    "\n",
    "# !unzip /content/drive/MyDrive/Kaggle\\ Datathon/datathonindoml-2022.zip \n",
    "# data_dir = \"/content\"\n"
   ]
  },
  {
   "cell_type": "code",
   "execution_count": 26,
   "metadata": {
    "tags": []
   },
   "outputs": [
    {
     "name": "stdout",
     "output_type": "stream",
     "text": [
      "skipping\n"
     ]
    }
   ],
   "source": [
    "%%script echo skipping\n",
    "!pip install Pillow\n",
    "!pip install numpy\n",
    "!pip install pandas\n",
    "!pip install matplotlib\n",
    "!pip install scikit-learn\n",
    "!pip install joblib"
   ]
  },
  {
   "cell_type": "code",
   "execution_count": 38,
   "metadata": {
    "id": "FaxYGqzpqAlq"
   },
   "outputs": [],
   "source": [
    "from os.path import join, isfile\n",
    "from PIL import Image\n",
    "import numpy as np\n",
    "import pandas as pd\n",
    "from matplotlib import pyplot as plt\n",
    "import sklearn\n",
    "import joblib"
   ]
  },
  {
   "cell_type": "code",
   "execution_count": 20,
   "metadata": {
    "colab": {
     "base_uri": "https://localhost:8080/",
     "height": 300
    },
    "id": "aFu1RSBHorwP",
    "outputId": "3dfb59ee-75a0-4c92-ce27-06ae01cd68cf"
   },
   "outputs": [
    {
     "data": {
      "text/html": [
       "<div>\n",
       "<style scoped>\n",
       "    .dataframe tbody tr th:only-of-type {\n",
       "        vertical-align: middle;\n",
       "    }\n",
       "\n",
       "    .dataframe tbody tr th {\n",
       "        vertical-align: top;\n",
       "    }\n",
       "\n",
       "    .dataframe thead th {\n",
       "        text-align: right;\n",
       "    }\n",
       "</style>\n",
       "<table border=\"1\" class=\"dataframe\">\n",
       "  <thead>\n",
       "    <tr style=\"text-align: right;\">\n",
       "      <th></th>\n",
       "      <th>id</th>\n",
       "      <th>label</th>\n",
       "    </tr>\n",
       "  </thead>\n",
       "  <tbody>\n",
       "    <tr>\n",
       "      <th>count</th>\n",
       "      <td>16000.000000</td>\n",
       "      <td>16000.000000</td>\n",
       "    </tr>\n",
       "    <tr>\n",
       "      <th>mean</th>\n",
       "      <td>7999.500000</td>\n",
       "      <td>7.512437</td>\n",
       "    </tr>\n",
       "    <tr>\n",
       "      <th>std</th>\n",
       "      <td>4618.946489</td>\n",
       "      <td>4.601214</td>\n",
       "    </tr>\n",
       "    <tr>\n",
       "      <th>min</th>\n",
       "      <td>0.000000</td>\n",
       "      <td>0.000000</td>\n",
       "    </tr>\n",
       "    <tr>\n",
       "      <th>25%</th>\n",
       "      <td>3999.750000</td>\n",
       "      <td>4.000000</td>\n",
       "    </tr>\n",
       "    <tr>\n",
       "      <th>50%</th>\n",
       "      <td>7999.500000</td>\n",
       "      <td>8.000000</td>\n",
       "    </tr>\n",
       "    <tr>\n",
       "      <th>75%</th>\n",
       "      <td>11999.250000</td>\n",
       "      <td>12.000000</td>\n",
       "    </tr>\n",
       "    <tr>\n",
       "      <th>max</th>\n",
       "      <td>15999.000000</td>\n",
       "      <td>15.000000</td>\n",
       "    </tr>\n",
       "  </tbody>\n",
       "</table>\n",
       "</div>"
      ],
      "text/plain": [
       "                 id         label\n",
       "count  16000.000000  16000.000000\n",
       "mean    7999.500000      7.512437\n",
       "std     4618.946489      4.601214\n",
       "min        0.000000      0.000000\n",
       "25%     3999.750000      4.000000\n",
       "50%     7999.500000      8.000000\n",
       "75%    11999.250000     12.000000\n",
       "max    15999.000000     15.000000"
      ]
     },
     "execution_count": 20,
     "metadata": {},
     "output_type": "execute_result"
    }
   ],
   "source": [
    "trainDir = join(data_dir, \"train/train\")\n",
    "validationDir = join(data_dir, \"validation/validation\")\n",
    "\n",
    "labels = pd.read_csv(join(data_dir, \"train_labels.csv\"))\n",
    "labels.describe()"
   ]
  },
  {
   "cell_type": "code",
   "execution_count": 23,
   "metadata": {
    "colab": {
     "base_uri": "https://localhost:8080/"
    },
    "id": "7Misylvqs9Uf",
    "outputId": "adc72652-ef07-4519-e861-52f9d9b84794"
   },
   "outputs": [],
   "source": [
    "shape = {\n",
    "    \"image\": (100, 75)\n",
    "    # \"image\": (200, 150)\n",
    "}\n",
    "number_of_tests = 16000\n",
    "data = np.zeros((number_of_tests, shape[\"image\"][0], shape[\"image\"][1]))\n",
    "\n",
    "for id in labels['id']:\n",
    "  data[id] = np.array(Image.open(join(trainDir, str(id) + \".tif\")).resize((shape[\"image\"][1], shape[\"image\"][0])), dtype=\"uint\")"
   ]
  },
  {
   "cell_type": "code",
   "execution_count": 24,
   "metadata": {
    "id": "p6PO8fRKt3MC"
   },
   "outputs": [
    {
     "data": {
      "text/plain": [
       "(16000, 7500)"
      ]
     },
     "execution_count": 24,
     "metadata": {},
     "output_type": "execute_result"
    }
   ],
   "source": [
    "# Convert the image matrix into linear data (i.e., 2D array into 1D array of features)\n",
    "data_linear = np.array([x.reshape(np.prod(shape[\"image\"])) for x in data])\n",
    "data_linear.shape"
   ]
  },
  {
   "cell_type": "code",
   "execution_count": 40,
   "metadata": {},
   "outputs": [
    {
     "data": {
      "text/plain": [
       "Pipeline(steps=[('scale', StandardScaler()),\n",
       "                ('model', LogisticRegression(max_iter=7500))])"
      ]
     },
     "execution_count": 40,
     "metadata": {},
     "output_type": "execute_result"
    }
   ],
   "source": [
    "from sklearn.model_selection import train_test_split\n",
    "from sklearn.pipeline import Pipeline\n",
    "from sklearn.preprocessing import StandardScaler\n",
    "from sklearn.linear_model import LogisticRegression\n",
    "\n",
    "X_train, X_test, Y_train, Y_test = train_test_split(data_linear, labels[\"label\"], test_size=0.25)\n",
    "\n",
    "def logisticRegression(X, Y):\n",
    "    file_name = \"models/LogisticRegression.sav\"\n",
    "    if isfile(file_name):\n",
    "        return joblib.load(file_name)\n",
    "\n",
    "    pipe = Pipeline([\n",
    "        (\"scale\", StandardScaler()),\n",
    "        (\"model\", LogisticRegression(max_iter = 7500)),\n",
    "    ])\n",
    "    pipe.fit(X, Y)\n",
    "    joblib.dump(pipe, file_name)\n",
    "    \n",
    "pipe = logisticRegression(X_train, Y_train)"
   ]
  },
  {
   "cell_type": "code",
   "execution_count": 41,
   "metadata": {},
   "outputs": [
    {
     "name": "stdout",
     "output_type": "stream",
     "text": [
      "Total:  4000 , Correct:  3377\n"
     ]
    }
   ],
   "source": [
    "correct = 0\n",
    "Y_pred = pipe.predict(X_test)\n",
    "\n",
    "correct_arr = filter(lambda x: x == 0, Y_pred - Y_test)\n",
    "for i in correct_arr:\n",
    "    correct += 1\n",
    "\n",
    "# for i in range(len(Y_pred)):\n",
    "#     if Y_pred[i] == Y_test[i]:\n",
    "#         correct += 1\n",
    "    \n",
    "print(\"Total: \", len(Y_pred), \", Correct: \", correct)"
   ]
  }
 ],
 "metadata": {
  "colab": {
   "authorship_tag": "ABX9TyNHkhYvvEkhK61u3zYan/Kz",
   "include_colab_link": true,
   "mount_file_id": "1mLCkQZyK5hJIKIUbCDlJy-kHF8R_uyMt",
   "provenance": []
  },
  "kernelspec": {
   "display_name": "Python 3 (ipykernel)",
   "language": "python",
   "name": "python3"
  },
  "language_info": {
   "codemirror_mode": {
    "name": "ipython",
    "version": 3
   },
   "file_extension": ".py",
   "mimetype": "text/x-python",
   "name": "python",
   "nbconvert_exporter": "python",
   "pygments_lexer": "ipython3",
   "version": "3.9.7"
  }
 },
 "nbformat": 4,
 "nbformat_minor": 4
}
